{
  "nbformat": 4,
  "nbformat_minor": 0,
  "metadata": {
    "colab": {
      "provenance": []
    },
    "kernelspec": {
      "name": "python3",
      "display_name": "Python 3"
    },
    "language_info": {
      "name": "python"
    }
  },
  "cells": [
    {
      "cell_type": "markdown",
      "source": [
        "Q.1 Write a program to create a NumPy 1D-array with 5 elements and perform basic\n",
        "operations like:\n",
        "a) Addition of 2 in all the element\n",
        "b) Multiply 3 with all the elements\n",
        "c) Divide every element by 2"
      ],
      "metadata": {
        "id": "b8pm6LhCgzKN"
      }
    },
    {
      "cell_type": "code",
      "source": [
        "import numpy as np\n",
        "arr = np.array([1, 2, 3, 4, 5])\n",
        "arr_add = arr + 2\n",
        "print(\"Addition of 2:\\n\", arr_add)\n",
        "arr_mul = arr * 3\n",
        "print(\"\\nMultiplication by 3:\\n\", arr_mul)\n",
        "arr_div = arr / 2\n",
        "print(\"\\nDivision by 2:\\n\", arr_div)"
      ],
      "metadata": {
        "colab": {
          "base_uri": "https://localhost:8080/"
        },
        "id": "fzSvldixgcR2",
        "outputId": "8323975d-0c77-4094-951e-1266cd8e7edb"
      },
      "execution_count": 13,
      "outputs": [
        {
          "output_type": "stream",
          "name": "stdout",
          "text": [
            "Addition of 2:\n",
            " [3 4 5 6 7]\n",
            "\n",
            "Multiplication by 3:\n",
            " [ 3  6  9 12 15]\n",
            "\n",
            "Division by 2:\n",
            " [0.5 1.  1.5 2.  2.5]\n"
          ]
        }
      ]
    },
    {
      "cell_type": "markdown",
      "source": [],
      "metadata": {
        "id": "CIfJwKKkgw7F"
      }
    },
    {
      "cell_type": "markdown",
      "source": [
        "Q.2 Questions on Basic NumPy Array:\n",
        "a) Reverse the NumPy array: arr = np.array([1, 2, 3, 6, 4, 5])\n",
        "b) Find the most frequent value and their indice(s) in the following arrays:\n",
        "i. x = np.array([1,2,3,4,5,1,2,1,1,1])\n",
        "ii. y = np.array([1, 1, 1, 2, 3, 4, 2, 4, 3, 3, ])"
      ],
      "metadata": {
        "id": "BMEIzQlng2pg"
      }
    },
    {
      "cell_type": "code",
      "source": [
        "import numpy as np\n",
        "arr = np.array([1, 2, 3, 6, 4, 5])\n",
        "reversed_arr = np.flip(arr)\n",
        "print(\"Reversed array:\\n\", reversed_arr)\n",
        "x = np.array([1, 2, 3, 4, 5, 1, 2, 1, 1, 1])\n",
        "values, counts = np.unique(x, return_counts=True)\n",
        "most_frequent_value_x = values[np.argmax(counts)]\n",
        "indices_x = np.where(x == most_frequent_value_x)\n",
        "print(\"\\nMost frequent value in x:\", most_frequent_value_x)\n",
        "print(\"Indices of most frequent value in x:\", indices_x)\n",
        "y = np.array([1, 1, 1, 2, 3, 4, 2, 4, 3, 3])\n",
        "values, counts = np.unique(y, return_counts=True)\n",
        "most_frequent_value_y = values[np.argmax(counts)]\n",
        "indices_y = np.where(y == most_frequent_value_y)\n",
        "print(\"\\nMost frequent value in y:\", most_frequent_value_y)\n",
        "print(\"Indices of most frequent value in y:\", indices_y)\n"
      ],
      "metadata": {
        "colab": {
          "base_uri": "https://localhost:8080/"
        },
        "id": "zR7TXB33g7fL",
        "outputId": "757518fd-8619-48cb-d359-81c9bdc87e2a"
      },
      "execution_count": 12,
      "outputs": [
        {
          "output_type": "stream",
          "name": "stdout",
          "text": [
            "Reversed array:\n",
            " [5 4 6 3 2 1]\n",
            "\n",
            "Most frequent value in x: 1\n",
            "Indices of most frequent value in x: (array([0, 5, 7, 8, 9]),)\n",
            "\n",
            "Most frequent value in y: 1\n",
            "Indices of most frequent value in y: (array([0, 1, 2]),)\n"
          ]
        }
      ]
    },
    {
      "cell_type": "markdown",
      "source": [
        "Q.3 For the given 2-D array arr=np.array([10, 20, 30], [40, 50, 60], [70, 80, 90]), access\n",
        "elements using row and column indices as follows:\n",
        "a) Access 1st row, 2nd column\n",
        "b) Access 3rd row, 1st column\n"
      ],
      "metadata": {
        "id": "pFwePs-IhEAE"
      }
    },
    {
      "cell_type": "code",
      "source": [
        "arr = np.array([[10, 20, 30], [40, 50, 60], [70, 80, 90]])\n",
        "element_a = arr[0, 1]\n",
        "print(\"Element at 1st row, 2nd column:\", element_a)\n",
        "\n",
        "element_b = arr[2, 0]\n",
        "print(\"Element at 3rd row, 1st column:\", element_b)"
      ],
      "metadata": {
        "colab": {
          "base_uri": "https://localhost:8080/"
        },
        "id": "R0mjvY8IhIcR",
        "outputId": "7d39f968-5c2a-47a7-c3ab-87daf812fa1d"
      },
      "execution_count": 11,
      "outputs": [
        {
          "output_type": "stream",
          "name": "stdout",
          "text": [
            "Element at 1st row, 2nd column: 20\n",
            "Element at 3rd row, 1st column: 70\n"
          ]
        }
      ]
    },
    {
      "cell_type": "markdown",
      "source": [
        "Q.4 Write program to create an 1-D NumPy array named <<Your Name>> with evenly\n",
        "spaced 25 numbers from 10 to 100 using linspace(). Print the dimensions of the array,\n",
        "shape, total elements, the data type of each element and total number of bytes consumed\n",
        "by the array. Find the transpose of this array using reshape() attribute. Can we do the same\n",
        "with T attribute?"
      ],
      "metadata": {
        "id": "RUQ5LS6phdaz"
      }
    },
    {
      "cell_type": "code",
      "source": [
        "import numpy as np\n",
        "my_array = np.linspace(10, 100, 25)\n",
        "print(\"Dimensions:\", my_array.ndim)\n",
        "print(\"Shape:\", my_array.shape)\n",
        "print(\"Total elements:\", my_array.size)\n",
        "print(\"Data type:\", my_array.dtype)\n",
        "print(\"Total bytes:\", my_array.nbytes)\n",
        "transposed_array_reshape = my_array.reshape(25,1)\n",
        "print(\"\\nTranspose using reshape:\\n\", transposed_array_reshape)\n",
        "transposed_array_t = my_array.T\n",
        "print(\"\\nTranspose using .T:\\n\", transposed_array_t)"
      ],
      "metadata": {
        "colab": {
          "base_uri": "https://localhost:8080/"
        },
        "id": "R2TF-zdMhd2U",
        "outputId": "46d20bdc-f8c5-4cc9-ea73-7536907c5c5a"
      },
      "execution_count": 9,
      "outputs": [
        {
          "output_type": "stream",
          "name": "stdout",
          "text": [
            "Dimensions: 1\n",
            "Shape: (25,)\n",
            "Total elements: 25\n",
            "Data type: float64\n",
            "Total bytes: 200\n",
            "\n",
            "Transpose using reshape:\n",
            " [[ 10.  ]\n",
            " [ 13.75]\n",
            " [ 17.5 ]\n",
            " [ 21.25]\n",
            " [ 25.  ]\n",
            " [ 28.75]\n",
            " [ 32.5 ]\n",
            " [ 36.25]\n",
            " [ 40.  ]\n",
            " [ 43.75]\n",
            " [ 47.5 ]\n",
            " [ 51.25]\n",
            " [ 55.  ]\n",
            " [ 58.75]\n",
            " [ 62.5 ]\n",
            " [ 66.25]\n",
            " [ 70.  ]\n",
            " [ 73.75]\n",
            " [ 77.5 ]\n",
            " [ 81.25]\n",
            " [ 85.  ]\n",
            " [ 88.75]\n",
            " [ 92.5 ]\n",
            " [ 96.25]\n",
            " [100.  ]]\n",
            "\n",
            "Transpose using .T:\n",
            " [ 10.    13.75  17.5   21.25  25.    28.75  32.5   36.25  40.    43.75\n",
            "  47.5   51.25  55.    58.75  62.5   66.25  70.    73.75  77.5   81.25\n",
            "  85.    88.75  92.5   96.25 100.  ]\n"
          ]
        }
      ]
    },
    {
      "cell_type": "markdown",
      "source": [
        "Q5. Create a 2-D Array of three rows and four columns, named ucs420_<your_name>>\n",
        "with following values – 10, 20, 30, 40, 50, 60, 70, 80, 90, 15, 20, 35. Compute the mean,\n",
        "median, max, min, unique elements. Reshape the array to four rows and three columns and\n",
        "name it as reshaped_ ucs420_<your_name>>. Resize the array to two rows and three\n",
        "columns and name it as resized_ ucs420_<your_name>>.\n"
      ],
      "metadata": {
        "id": "Wg1xKdL3hnKg"
      }
    },
    {
      "cell_type": "code",
      "source": [
        "ucs420_your_name = np.array([[10, 20, 30, 40], [50, 60, 70, 80], [90, 15, 20, 35]])\n",
        "mean = np.mean(ucs420_your_name)\n",
        "median = np.median(ucs420_your_name)\n",
        "max_val = np.max(ucs420_your_name)\n",
        "min_val = np.min(ucs420_your_name)\n",
        "unique_elements = np.unique(ucs420_your_name)\n",
        "print(\"Mean:\", mean)\n",
        "print(\"Median:\", median)\n",
        "print(\"Max:\", max_val)\n",
        "print(\"Min:\", min_val)\n",
        "print(\"Unique elements:\", unique_elements)\n",
        "reshaped_ucs420_your_name = ucs420_your_name.reshape(4, 3)\n",
        "print(\"\\nReshaped array:\\n\", reshaped_ucs420_your_name)\n",
        "resized_ucs420_your_name = np.resize(ucs420_your_name, (2, 3))\n",
        "print(\"\\nResized array:\\n\", resized_ucs420_your_name)\n"
      ],
      "metadata": {
        "colab": {
          "base_uri": "https://localhost:8080/"
        },
        "id": "aJ7Sb_iWhnu3",
        "outputId": "5d0f965c-91a2-4bf9-ecfe-ce845af7c417"
      },
      "execution_count": 10,
      "outputs": [
        {
          "output_type": "stream",
          "name": "stdout",
          "text": [
            "Mean: 43.333333333333336\n",
            "Median: 37.5\n",
            "Max: 90\n",
            "Min: 10\n",
            "Unique elements: [10 15 20 30 35 40 50 60 70 80 90]\n",
            "\n",
            "Reshaped array:\n",
            " [[10 20 30]\n",
            " [40 50 60]\n",
            " [70 80 90]\n",
            " [15 20 35]]\n",
            "\n",
            "Resized array:\n",
            " [[10 20 30]\n",
            " [40 50 60]]\n"
          ]
        }
      ]
    }
  ]
}