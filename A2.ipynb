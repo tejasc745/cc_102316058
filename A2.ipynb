{
  "cells": [
    {
      "cell_type": "markdown",
      "metadata": {
        "colab_type": "text",
        "id": "view-in-github"
      },
      "source": [
        "<a href=\"https://colab.research.google.com/github/mehul79/CC_mehul_102316082/blob/main/CC_assignment_2.ipynb\" target=\"_parent\"><img src=\"https://colab.research.google.com/assets/colab-badge.svg\" alt=\"Open In Colab\"/></a>"
      ]
    },
    {
      "cell_type": "markdown",
      "metadata": {
        "id": "r37wbMtjW2Lg"
      },
      "source": [
        "Create a List L that is defined as= [10, 20, 30, 40, 50, 60, 70, 80].\n",
        "<br>\n",
        "i. WAP to add 200 and 300 to L.\n",
        "<br>\n",
        "ii. WAP to remove 10 and 30 from L.\n",
        "<br>\n",
        "iii. WAP to sort L in ascending order.\n",
        "<br>\n",
        "iv. WAP to sort L in descending order."
      ]
    },
    {
      "cell_type": "markdown",
      "metadata": {
        "id": "cVDUWl9zYlNQ"
      },
      "source": []
    },
    {
      "cell_type": "markdown",
      "metadata": {
        "id": "csfFNzulYmh5"
      },
      "source": []
    },
    {
      "cell_type": "code",
      "execution_count": 1,
      "metadata": {
        "colab": {
          "base_uri": "https://localhost:8080/"
        },
        "id": "7wgiJHVJWvkE",
        "outputId": "15242245-14b6-4b32-9de2-0f67cf01b5b8"
      },
      "outputs": [
        {
          "name": "stdout",
          "output_type": "stream",
          "text": [
            "List after adding 200 and 300: [10, 20, 30, 40, 50, 60, 70, 80, 200, 300]\n",
            "List after removing 10 and 30: [20, 40, 50, 60, 70, 80, 200, 300]\n",
            "List sorted in ascending order: [20, 40, 50, 60, 70, 80, 200, 300]\n",
            "List sorted in descending order: [300, 200, 80, 70, 60, 50, 40, 20]\n"
          ]
        }
      ],
      "source": [
        "\n",
        "L = [10, 20, 30, 40, 50, 60, 70, 80]\n",
        "L.extend([200, 300])\n",
        "print(f\"List after adding 200 and 300: {L}\")\n",
        "L.remove(10)\n",
        "L.remove(30)\n",
        "print(f\"List after removing 10 and 30: {L}\")\n",
        "L.sort()\n",
        "print(f\"List sorted in ascending order: {L}\")\n",
        "L.sort(reverse=True)\n",
        "print(f\"List sorted in descending order: {L}\")"
      ]
    },
    {
      "cell_type": "markdown",
      "metadata": {
        "id": "POT5O4BRXIHq"
      },
      "source": [
        "Create a tuple of marks scored as scores = (45, 89.5, 76, 45.4, 89, 92, 58, 45) and\n",
        "perform the following operations using tuple functions:\n",
        "<br>\n",
        "i. Identify the highest score and its index in the tuple.\n",
        "<br>\n",
        "ii. Find the lowest score and count how many times it appears.\n",
        "<br>\n",
        "iii. Reverse the tuple and return it as a list.\n",
        "<br>\n",
        "iv. Check if a specific score ‘76’ (input by the user) is present in the tuple and\n",
        "print its first occurrence index, or a message saying it’s not present."
      ]
    },
    {
      "cell_type": "code",
      "execution_count": 5,
      "metadata": {
        "colab": {
          "base_uri": "https://localhost:8080/"
        },
        "id": "hHL_gp_RXS7n",
        "outputId": "5cb4330d-0029-4669-dcd9-b9000471a892"
      },
      "outputs": [
        {
          "name": "stdout",
          "output_type": "stream",
          "text": [
            "Highest score: 92, Index: 5\n",
            "Lowest score: 45, Count: 2\n",
            "Reversed tuple as a list: [45, 58, 92, 89, 45.4, 76, 89.5, 45]\n",
            "Score 76 found at index: 2\n"
          ]
        }
      ],
      "source": [
        "scores = (45, 89.5, 76, 45.4, 89, 92, 58, 45)\n",
        "highest_score = max(scores)\n",
        "highest_score_index = scores.index(highest_score)\n",
        "print(f\"Highest score: {highest_score}, Index: {highest_score_index}\")\n",
        "lowest_score = min(scores)\n",
        "lowest_score_count = scores.count(lowest_score)\n",
        "print(f\"Lowest score: {lowest_score}, Count: {lowest_score_count}\")\n",
        "reversed_scores_list = list(reversed(scores))\n",
        "print(f\"Reversed tuple as a list: {reversed_scores_list}\")\n",
        "specific_score = 76\n",
        "if specific_score in scores:\n",
        "    specific_score_index = scores.index(specific_score)\n",
        "    print(f\"Score {specific_score} found at index: {specific_score_index}\")\n",
        "else:\n",
        "    print(f\"Score {specific_score} not found in the tuple.\")"
      ]
    },
    {
      "cell_type": "markdown",
      "metadata": {
        "id": "Nhh491IjXdwE"
      },
      "source": [
        "WAP to create a list of 100 random numbers between 100 and 900. Count and print the:\n",
        "<br>\n",
        "i. All odd numbers\n",
        "<br>\n",
        "ii. All even numbers\n",
        "<br>\n",
        "iii. All prime numbers"
      ]
    },
    {
      "cell_type": "code",
      "execution_count": 4,
      "metadata": {
        "colab": {
          "base_uri": "https://localhost:8080/"
        },
        "id": "RyEadfwzXpyp",
        "outputId": "e1c464dc-09b6-4e3c-b950-ddbe3caf806f"
      },
      "outputs": [
        {
          "name": "stdout",
          "output_type": "stream",
          "text": [
            "Odd numbers: [149, 831, 363, 525, 777, 481, 783, 861, 671, 889, 535, 167, 533, 743, 263, 361, 467, 637, 871, 789, 291, 395, 419, 103, 613, 747, 837, 105, 841, 495, 599, 801, 745, 849, 341, 717, 327, 819, 237, 205, 123, 377, 825, 545, 797, 239, 829, 323, 433, 521, 329]\n",
            "Even numbers: [276, 500, 548, 214, 704, 220, 482, 190, 302, 332, 640, 496, 552, 198, 316, 392, 900, 270, 650, 174, 400, 248, 768, 724, 776, 648, 380, 650, 190, 254, 654, 790, 696, 898, 496, 514, 228, 480, 348, 324, 702, 822, 540, 168, 870, 506, 828, 626, 202]\n",
            "Prime numbers: [149, 167, 743, 263, 467, 419, 103, 613, 599, 797, 239, 829, 433, 521]\n"
          ]
        }
      ],
      "source": [
        "import random\n",
        "numbers = [random.randint(100, 900) for _ in range(100)]\n",
        "odds = []\n",
        "evens = []\n",
        "primes = []\n",
        "for num in numbers:\n",
        "    if num % 2 != 0:\n",
        "        odds.append(num)\n",
        "    else:\n",
        "        evens.append(num)\n",
        "    is_prime = True\n",
        "    if num < 2:\n",
        "        is_prime = False\n",
        "    for i in range(2, int(num ** 0.5) + 1):\n",
        "        if num % i == 0:\n",
        "            is_prime = False\n",
        "            break\n",
        "    if is_prime:\n",
        "        primes.append(num)\n",
        "print(\"Odd numbers:\", odds)\n",
        "print(\"Even numbers:\", evens)\n",
        "print(\"Prime numbers:\", primes)"
      ]
    },
    {
      "cell_type": "markdown",
      "metadata": {
        "id": "l1Nh0vpEYo82"
      },
      "source": [
        "Consider the following two sets, A and B, represenƟng scores of two teams in mulƟple\n",
        "matches. A = {34, 56, 78, 90} and B = {78, 45, 90, 23}\n",
        "WAP to perform the following operaƟons using set functions:\n",
        "<br>\n",
        "i. Find the unique scores achieved by both teams (union of sets).\n",
        "<br>\n",
        "ii. IdenƟfy the scores that are common to both teams (intersecƟon of sets).\n",
        "<br>\n",
        "iii. Find the scores that are exclusive to each team (symmetric difference).\n",
        "<br>\n",
        "iv. Check if the scores of team A are a subset of team B, and if team B's scores are a superset of team A.\n",
        "<br>\n",
        "v. Remove a specific score X (input by the user) from set A if it exists. If not, print a message saying it is not present."
      ]
    },
    {
      "cell_type": "code",
      "execution_count": 6,
      "metadata": {
        "colab": {
          "base_uri": "https://localhost:8080/"
        },
        "id": "PI5t-I7aY-EI",
        "outputId": "359c5f66-772c-49bd-95df-5e6967342c67"
      },
      "outputs": [
        {
          "name": "stdout",
          "output_type": "stream",
          "text": [
            "Unique scores: {34, 45, 78, 23, 56, 90}\n",
            "Common scores: {90, 78}\n",
            "Exclusive scores: {34, 45, 23, 56}\n",
            "Is A a subset of B? False\n",
            "Is B a superset of A? False\n",
            "Enter the score to remove from set A: 34\n",
            "Set A after removing 34: {56, 90, 78}\n"
          ]
        }
      ],
      "source": [
        "A = {34, 56, 78, 90}\n",
        "B = {78, 45, 90, 23}\n",
        "unique_scores = A | B\n",
        "print(f\"Unique scores: {unique_scores}\")\n",
        "common_scores = A & B\n",
        "print(f\"Common scores: {common_scores}\")\n",
        "exclusive_scores = A ^ B\n",
        "print(f\"Exclusive scores: {exclusive_scores}\")\n",
        "is_subset = A.issubset(B)\n",
        "is_superset = B.issuperset(A)\n",
        "print(f\"Is A a subset of B? {is_subset}\")\n",
        "print(f\"Is B a superset of A? {is_superset}\")\n",
        "X = int(input(\"Enter the score to remove from set A: \"))\n",
        "if X in A:\n",
        "    A.remove(X)\n",
        "    print(f\"Set A after removing {X}: {A}\")\n",
        "else:\n",
        "    print(f\"Score {X} not found in set A.\")"
      ]
    },
    {
      "cell_type": "markdown",
      "metadata": {
        "id": "F5s-_qqbZYZk"
      },
      "source": [
        "Write a program to rename a key city to a locaƟon in the following dictionary."
      ]
    },
    {
      "cell_type": "code",
      "execution_count": 8,
      "metadata": {
        "colab": {
          "base_uri": "https://localhost:8080/"
        },
        "id": "LySuAPLhZast",
        "outputId": "0f217c48-e40b-4886-94c8-4372ba25e88d"
      },
      "outputs": [
        {
          "name": "stdout",
          "output_type": "stream",
          "text": [
            "Updated dictionary: {'name': 'kelly', 'age': 25, 'salary': 8000, 'city': 'new york', 'location': 'new york'}\n"
          ]
        }
      ],
      "source": [
        "city_dict = {\"name\": \"kelly\", \"age\": 25, \"salary\": 8000, \"city\": \"new york\"} # Example dictionary\n",
        "if 'city' in city_dict:\n",
        "    location_value = city_dict['city']\n",
        "    del city_dict['city']\n",
        "    city_dict['location'] = location_value\n",
        "    print(f\"Updated dictionary: {city_dict}\")\n",
        "\n",
        "else:\n",
        "    print(\"The key 'city' does not exist in the dictionary.\")"
      ]
    }
  ],
  "metadata": {
    "colab": {
      "authorship_tag": "ABX9TyMPuHLL9XWG7RJZIHK5hECj",
      "include_colab_link": true,
      "provenance": []
    },
    "kernelspec": {
      "display_name": "Python 3",
      "name": "python3"
    },
    "language_info": {
      "name": "python"
    }
  },
  "nbformat": 4,
  "nbformat_minor": 0
}
